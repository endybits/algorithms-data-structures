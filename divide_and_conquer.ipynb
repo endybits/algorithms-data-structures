{
 "cells": [
  {
   "attachments": {},
   "cell_type": "markdown",
   "metadata": {},
   "source": [
    "### Divide And Conquer (DAC).\n",
    "More than an specific algorithm itself, divide and conquer (DAC) is a technique to solve problems in a group or category of algorithms.\n",
    "\n",
    "This thecnique consists of three components:\n",
    "\n",
    "* **Divide** *the problem into smaller sub-problems*\n",
    "* **Conquer**: *solving sub-problems by applying recursively the DAC technique*\n",
    "* **Combine/merge** *the sub-problems until to get the final solution of the whole problem*\n",
    "\n",
    "The DAC algorithms are implemented in concurrent/parallel programming; so it's mandatory to set the base case that stops the recursion.\n",
    "\n",
    "An approach to the pseudocode for these algorithms could be:\n",
    "\n",
    "<code>\n",
    "    DAC(array, start, finish){\n",
    "\n",
    "        if case_base(array, start, finish){\n",
    "            return solution(array, start, finish)\n",
    "        }\n",
    "        else {\n",
    "            mid = divide(array, start, finish)      // DIVIDE\n",
    "            C1 = DAC(array, start, mid)             // CONQUER 1\n",
    "            C2 = DAC(array, mid+1, finish)          // CONQUER 1\n",
    "            C = C1 U C2                             // COMBINE\n",
    "            return C\n",
    "        }\n",
    "    }\n",
    "</code>"
   ]
  },
  {
   "attachments": {},
   "cell_type": "markdown",
   "metadata": {},
   "source": [
    "##### Examples:\n",
    "1. **Sum**: given a list of numbers, return the sum of all values."
   ]
  },
  {
   "cell_type": "code",
   "execution_count": 2,
   "metadata": {},
   "outputs": [
    {
     "name": "stdout",
     "output_type": "stream",
     "text": [
      "16\n"
     ]
    }
   ],
   "source": [
    "def DAC_sum(arr: list, start: int, finish: int):\n",
    "    if start == finish:\n",
    "        return arr[start] \n",
    "    else:\n",
    "        mid = int((start + finish)/2)       # DIVIDE\n",
    "        c1 = DAC_sum(arr, start, mid)       # CONQUER 1\n",
    "        c2 = DAC_sum(arr, mid + 1, finish)  # CONQUER 2\n",
    "\n",
    "        sum = c1 + c2                       # COMBINE\n",
    "        return sum\n",
    "\n",
    "array = [1, 2, 3, 4, 6]\n",
    "start = 0\n",
    "finish = len(array) - 1\n",
    "sum = DAC_sum(array, start, finish)\n",
    "print(sum)"
   ]
  },
  {
   "attachments": {},
   "cell_type": "markdown",
   "metadata": {},
   "source": [
    "1. **Maximum**: given a list of numbers, return the largest value."
   ]
  },
  {
   "cell_type": "code",
   "execution_count": 3,
   "metadata": {},
   "outputs": [
    {
     "name": "stdout",
     "output_type": "stream",
     "text": [
      "(0, 7, 8)\n",
      "(0, 3, 8)\n",
      "(0, 1, 8)\n",
      "(2, 3, 8)\n",
      "(4, 7, 8)\n",
      "(4, 5, 8)\n",
      "(6, 7, 8)\n",
      "79\n"
     ]
    }
   ],
   "source": [
    "def DAC_max(arr: list, start: int, finish: int):\n",
    "    print((start, finish, len(arr)))\n",
    "\n",
    "    if finish == start or finish-start == 1:\n",
    "        return arr[start] if arr[start] >= arr[finish] else arr[finish]\n",
    "    else:\n",
    "        mid = int((start + finish)/2)       # DIVIDE\n",
    "        c1 = DAC_max(arr, start, mid)       # CONQUER 1\n",
    "        c2 = DAC_max(arr, mid + 1, finish)  # CONQUER 2\n",
    "\n",
    "        max = c1 if c1 >= c2 else c2         # COMBINE\n",
    "        return max\n",
    "\n",
    "\n",
    "array = [1, 2, 54, 4, 6, 79, 28, 12]\n",
    "start = 0\n",
    "finish = len(array) - 1\n",
    "maximum = DAC_max(array, start, finish)\n",
    "print(maximum)"
   ]
  },
  {
   "attachments": {},
   "cell_type": "markdown",
   "metadata": {},
   "source": [
    "1. **Minimum**: given a list of numbers, return the smallest value."
   ]
  },
  {
   "cell_type": "code",
   "execution_count": 10,
   "metadata": {},
   "outputs": [
    {
     "name": "stdout",
     "output_type": "stream",
     "text": [
      "(0, 8, 9)\n",
      "(0, 4, 9)\n",
      "(0, 2, 9)\n",
      "(0, 1, 9)\n",
      "(2, 2, 9)\n",
      "(3, 4, 9)\n",
      "(5, 8, 9)\n",
      "(5, 6, 9)\n",
      "(7, 8, 9)\n",
      "-3\n"
     ]
    }
   ],
   "source": [
    "def DAC_min(arr: list, start: int, finish: int):\n",
    "    print((start, finish, len(arr)))\n",
    "\n",
    "    if finish == start or finish-start == 1:\n",
    "        return arr[start] if arr[start] <= arr[finish] else arr[finish]\n",
    "    else:\n",
    "        mid = int((start + finish)/2)       # DIVIDE\n",
    "        c1 = DAC_min(arr, start, mid)       # CONQUER 1\n",
    "        c2 = DAC_min(arr, mid + 1, finish)  # CONQUER 2\n",
    "\n",
    "        min = c1 if c1 <= c2 else c2         # COMBINE\n",
    "        return min\n",
    "\n",
    "\n",
    "array = [2, 54, 1, -3, 4, 6, 79, 28, 12]\n",
    "start = 0\n",
    "finish = len(array) - 1\n",
    "minimum = DAC_min(array, start, finish)\n",
    "print(minimum)"
   ]
  },
  {
   "attachments": {},
   "cell_type": "markdown",
   "metadata": {},
   "source": [
    " "
   ]
  }
 ],
 "metadata": {
  "kernelspec": {
   "display_name": "py39",
   "language": "python",
   "name": "python3"
  },
  "language_info": {
   "codemirror_mode": {
    "name": "ipython",
    "version": 3
   },
   "file_extension": ".py",
   "mimetype": "text/x-python",
   "name": "python",
   "nbconvert_exporter": "python",
   "pygments_lexer": "ipython3",
   "version": "3.9.13"
  },
  "orig_nbformat": 4,
  "vscode": {
   "interpreter": {
    "hash": "4344e4449333389347f684460f287016036f4b38d29773708e548ff273bbcc19"
   }
  }
 },
 "nbformat": 4,
 "nbformat_minor": 2
}
